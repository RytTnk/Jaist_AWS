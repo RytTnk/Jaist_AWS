##### data analysis with Netflix (following to kaggle kernel ___)

##### more interesting data (bicycle data analysis)
